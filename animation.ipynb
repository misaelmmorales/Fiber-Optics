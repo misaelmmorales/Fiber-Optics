{
 "cells": [
  {
   "cell_type": "code",
   "execution_count": 2,
   "metadata": {},
   "outputs": [
    {
     "name": "stdout",
     "output_type": "stream",
     "text": [
      "Tensorflow built with CUDA? True\n",
      "# GPU available: 1\n",
      "CUDA: 64_112 | cuDNN: 64_8\n",
      "[PhysicalDevice(name='/physical_device:CPU:0', device_type='CPU'), PhysicalDevice(name='/physical_device:GPU:0', device_type='GPU')]\n"
     ]
    }
   ],
   "source": [
    "from utils import *\n",
    "\n",
    "check_tf()\n",
    "K.clear_session()"
   ]
  },
  {
   "cell_type": "code",
   "execution_count": 3,
   "metadata": {},
   "outputs": [],
   "source": [
    "das45,  dts45  = make_daslhs_dts('45')\n",
    "das48,  dts48  = make_daslhs_dts('48')\n",
    "das54,  dts54  = make_daslhs_dts('54')\n",
    "das64,  dts64  = make_daslhs_dts('64')\n",
    "das109, dts109 = make_daslhs_dts('109')\n",
    "das128, dts128 = make_daslhs_dts('128')\n",
    "\n",
    "print('45  - DAS: {} | DTS: {}'.format(das45.shape, dts45.shape))\n",
    "print('128 - DAS: {} | DTS: {}'.format(das128.shape, dts128.shape))"
   ]
  },
  {
   "cell_type": "code",
   "execution_count": 4,
   "metadata": {},
   "outputs": [
    {
     "name": "stdout",
     "output_type": "stream",
     "text": [
      "45  - DAS: (78, 200, 1) | DTS: (78, 200, 1)\n",
      "128 - DAS: (93, 200, 1) | DTS: (93, 200, 1)\n"
     ]
    }
   ],
   "source": [
    "print('45  - DAS: {} | DTS: {}'.format(das45.shape, dts45.shape))\n",
    "print('128 - DAS: {} | DTS: {}'.format(das128.shape, dts128.shape))"
   ]
  },
  {
   "cell_type": "code",
   "execution_count": 27,
   "metadata": {},
   "outputs": [],
   "source": [
    "all_das = [das45,das48,das54,das64,das109,das128]\n",
    "all_dts = [dts45,dts48,dts54,dts64,dts109,dts128]"
   ]
  },
  {
   "cell_type": "code",
   "execution_count": 74,
   "metadata": {},
   "outputs": [
    {
     "name": "stderr",
     "output_type": "stream",
     "text": [
      "MovieWriter ffmpeg unavailable; using Pillow instead.\n"
     ]
    }
   ],
   "source": [
    "titles = ['Exp 45', 'Exp 48', 'Exp 54', 'Exp 64', 'Exp 109', 'Exp 128']\n",
    "\n",
    "t = 0\n",
    "fig, axs = plt.subplots(1, 6, figsize=(10,5))\n",
    "for j in range(6):\n",
    "    im = axs[j].imshow(all_das[j][t], aspect='auto', cmap='seismic')\n",
    "    axs[j].set(xticks=[])\n",
    "    axs[0].set_ylabel('Location [m]', weight='bold')\n",
    "    if j >= 1:\n",
    "        axs[j].set(yticks=[])\n",
    "    axs[j].set_title(titles[j], weight='bold')\n",
    "    axs[j].set_xlabel('t={}'.format(t))\n",
    "fig.suptitle('DAS', weight='bold')\n",
    "plt.colorbar(im, pad=0.04, fraction=0.046)\n",
    "\n",
    "def animate(k):\n",
    "    for j in range(6):\n",
    "        im = axs[j].imshow(all_das[j][t], aspect='auto', cmap='seismic')\n",
    "        axs[j].set(xticks=[])\n",
    "        axs[0].set_ylabel('Location [m]', weight='bold')\n",
    "        if j >= 1:\n",
    "            axs[j].set(yticks=[])\n",
    "        axs[j].set_title(titles[j], weight='bold')\n",
    "        axs[j].set_xlabel('t={}'.format(t))\n",
    "\n",
    "ani = FuncAnimation(fig, animate, frames=78, blit=False, interval=350)\n",
    "ani.save('figures/das_animation.gif')\n",
    "plt.show()"
   ]
  },
  {
   "cell_type": "code",
   "execution_count": null,
   "metadata": {},
   "outputs": [],
   "source": [
    "titles = ['Exp 45', 'Exp 48', 'Exp 54', 'Exp 64', 'Exp 109', 'Exp 128']\n",
    "\n",
    "t = 0\n",
    "fig, axs = plt.subplots(1, 6, figsize=(10,5))\n",
    "for j in range(6):\n",
    "    im = axs[j].imshow(all_dts[j][t], aspect='auto', cmap='seismic')\n",
    "    axs[j].set(xticks=[])\n",
    "    axs[0].set_ylabel('Location [m]', weight='bold')\n",
    "    if j >= 1:\n",
    "        axs[j].set(yticks=[])\n",
    "    axs[j].set_title(titles[j], weight='bold')\n",
    "    axs[j].set_xlabel('t={}'.format(t))\n",
    "fig.suptitle('DTS', weight='bold')\n",
    "plt.colorbar(im, pad=0.04, fraction=0.046)\n",
    "\n",
    "def animate(k):\n",
    "    for j in range(6):\n",
    "        im = axs[j].imshow(all_dts[j][t], aspect='auto', cmap='seismic')\n",
    "        axs[j].set(xticks=[])\n",
    "        axs[0].set_ylabel('Location [m]', weight='bold')\n",
    "        if j >= 1:\n",
    "            axs[j].set(yticks=[])\n",
    "        axs[j].set_title(titles[j], weight='bold')\n",
    "        axs[j].set_xlabel('t={}'.format(t))\n",
    "\n",
    "ani = FuncAnimation(fig, animate, frames=78, blit=False, interval=350)\n",
    "ani.save('figures/dts_animation.gif')\n",
    "plt.show()"
   ]
  },
  {
   "cell_type": "code",
   "execution_count": null,
   "metadata": {},
   "outputs": [],
   "source": []
  }
 ],
 "metadata": {
  "kernelspec": {
   "display_name": "Python 3",
   "language": "python",
   "name": "python3"
  },
  "language_info": {
   "codemirror_mode": {
    "name": "ipython",
    "version": 3
   },
   "file_extension": ".py",
   "mimetype": "text/x-python",
   "name": "python",
   "nbconvert_exporter": "python",
   "pygments_lexer": "ipython3",
   "version": "3.10.12"
  },
  "orig_nbformat": 4
 },
 "nbformat": 4,
 "nbformat_minor": 2
}
