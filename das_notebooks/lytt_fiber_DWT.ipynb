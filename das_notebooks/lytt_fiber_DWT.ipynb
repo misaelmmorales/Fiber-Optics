{
 "cells": [
  {
   "cell_type": "code",
   "execution_count": 1,
   "metadata": {},
   "outputs": [
    {
     "name": "stdout",
     "output_type": "stream",
     "text": [
      "Tensorflow built with CUDA? True\n",
      "Devices available: [PhysicalDevice(name='/physical_device:CPU:0', device_type='CPU'), PhysicalDevice(name='/physical_device:XLA_CPU:0', device_type='XLA_CPU'), PhysicalDevice(name='/physical_device:GPU:0', device_type='GPU'), PhysicalDevice(name='/physical_device:XLA_GPU:0', device_type='XLA_GPU')]\n",
      "# GPU available: 1\n",
      "CUDA: 64_101 | cuDNN: 64_7\n"
     ]
    },
    {
     "data": {
      "text/plain": [
       "[PhysicalDevice(name='/physical_device:CPU:0', device_type='CPU'),\n",
       " PhysicalDevice(name='/physical_device:XLA_CPU:0', device_type='XLA_CPU'),\n",
       " PhysicalDevice(name='/physical_device:GPU:0', device_type='GPU'),\n",
       " PhysicalDevice(name='/physical_device:XLA_GPU:0', device_type='XLA_GPU')]"
      ]
     },
     "execution_count": 1,
     "metadata": {},
     "output_type": "execute_result"
    }
   ],
   "source": [
    "%matplotlib inline\n",
    "import numpy as np                                    #arrays and matrix math\n",
    "import pandas as pd                                   #work with DataFrames\n",
    "import matplotlib.pyplot as plt                       #plotting and visualization\n",
    "import matplotlib.dates as mdates                     #datetime formate in plots\n",
    "\n",
    "import h5py                                           #import h5 files\n",
    "import os                                             #OS operations\n",
    "import scipy.signal as signal                         #signal processing\n",
    "from scipy.io import loadmat                          #load MatLab m-files\n",
    "\n",
    "from skimage.metrics import mean_squared_error as image_mse         #Mean Squared Error\n",
    "from skimage.metrics import structural_similarity as image_ssim     #Structural Similarity Index\n",
    "from skimage.metrics import peak_signal_noise_ratio as image_psnr   #Peak Signal-Noise Ratio\n",
    "\n",
    "# Define arguments for text box in PLT.TEXT()\n",
    "my_box = dict(boxstyle='round', facecolor='wheat', alpha=0.5)\n",
    "\n",
    "# Check tensorflow GPU settings\n",
    "import tensorflow as tf\n",
    "sys_info = tf.sysconfig.get_build_info()\n",
    "print('Tensorflow built with CUDA?',  tf.test.is_built_with_cuda())\n",
    "print('Devices available:', tf.config.experimental.list_physical_devices())\n",
    "print('# GPU available:', len(tf.config.experimental.list_physical_devices('GPU')))\n",
    "print(\"CUDA: {} | cuDNN: {}\".format(sys_info[\"cuda_version\"], sys_info[\"cudnn_version\"]))\n",
    "tf.config.list_physical_devices()"
   ]
  },
  {
   "cell_type": "markdown",
   "metadata": {},
   "source": [
    "***"
   ]
  },
  {
   "cell_type": "code",
   "execution_count": 2,
   "metadata": {},
   "outputs": [
    {
     "name": "stdout",
     "output_type": "stream",
     "text": [
      "Experiment 54 shape: (200, 4200000)\n",
      "Times for Experiment 54 shape: (4200000,)\n",
      "Timerange 54: (4200000,)\n",
      "X-range 54: (200,)\n"
     ]
    }
   ],
   "source": [
    "# EXPERIMENT 54 ONLY\n",
    "data_exp54 = pd.read_pickle('data_exp54.pkl')\n",
    "print('Experiment 54 shape: {}'.format(data_exp54.shape))\n",
    "\n",
    "time_complete_exp54 = np.array([loadmat('time_complete_54.mat')['time']], dtype='datetime64[us]').reshape(-1)\n",
    "print('Times for Experiment 54 shape: {}'.format(time_complete_exp54.shape))\n",
    "\n",
    "trange_54 = mdates.date2num(time_complete_exp54)\n",
    "xrange_54 = np.arange(4950, 5150)\n",
    "print('Timerange 54: {}'.format(trange_54.shape))\n",
    "print('X-range 54: {}'.format(xrange_54.shape))"
   ]
  },
  {
   "cell_type": "code",
   "execution_count": null,
   "metadata": {},
   "outputs": [],
   "source": [
    "# fig, ax1 = plt.subplots(1, 1, figsize=(20,10))\n",
    "# date_format = mdates.DateFormatter('%H:%M:%S')\n",
    "\n",
    "# im1 = ax1.imshow(data_exp54, aspect='auto', cmap='seismic', vmin=-50, vmax=50, extent=[trange_54[0], trange_54[-1], xrange_54[-1], xrange_54[0]])\n",
    "# ax1.xaxis_date(); ax1.xaxis.set_major_formatter(date_format)\n",
    "# ax1.set_xlabel('Time [s] on 06/20/2019'); ax1.set_ylabel('Distance [m]'); ax1.set_title('Experiment 54')\n",
    "# plt.colorbar(im1, ax=ax1)\n",
    "\n",
    "# fig.autofmt_xdate()\n",
    "# plt.show();"
   ]
  },
  {
   "cell_type": "markdown",
   "metadata": {},
   "source": [
    "***"
   ]
  },
  {
   "cell_type": "markdown",
   "metadata": {},
   "source": [
    "DWT (Discrete Wavelet Transform)"
   ]
  },
  {
   "cell_type": "code",
   "execution_count": null,
   "metadata": {},
   "outputs": [],
   "source": [
    "from pywt import wavedec2 as DWT2 \n",
    "from pywt import waverec2 as iDWT2 \n",
    "from pywt import coeffs_to_array, array_to_coeffs"
   ]
  },
  {
   "cell_type": "code",
   "execution_count": null,
   "metadata": {},
   "outputs": [],
   "source": [
    "def do_DWT(data, compression_ratio, wavelet='db1', level=3):\n",
    "    data_exp = np.array(data) #make data np.array\n",
    "    coeffs = DWT2(data_exp, wavelet=wavelet, level=level) #take the DWT\n",
    "    coeff_arr, coeff_slices = coeffs_to_array(coeffs) #convert DWT coefficients to array\n",
    "    coeff_sort = np.sort(np.abs(coeff_arr.reshape(-1))) #sort array of coefficients\n",
    "    \n",
    "    perc = compression_ratio\n",
    "    threshold   = coeff_sort[int(np.floor((1-perc)*len(coeff_sort)))] #threshold nonrelevant coefficients\n",
    "    coeff_arr_t = coeff_arr * (np.abs(coeff_arr) > threshold)\n",
    "    coeffs_t    = array_to_coeffs(coeff_arr_t, coeff_slices, output_format='wavedec2') #take array to DWT coefficients\n",
    "    data_idwt   = iDWT2(coeffs_t, wavelet=wavelet) #inverse DWT\n",
    "    \n",
    "    data_exp_norm  = data_exp  / np.max(np.abs(data_exp))  #normalize original data\n",
    "    data_idwt_norm = data_idwt / np.max(np.abs(data_idwt)) #normalize reconstructed data  \n",
    "    \n",
    "    mse  = image_mse(data_exp_norm,  data_idwt_norm) #mse\n",
    "    ssim = image_ssim(data_exp_norm, data_idwt_norm) #ssim\n",
    "    psnr = image_psnr(data_exp_norm, data_idwt_norm) #psnr\n",
    "    metrics = [mse, ssim, psnr]\n",
    "    \n",
    "    return data_idwt, coeff_arr_t, metrics"
   ]
  },
  {
   "cell_type": "code",
   "execution_count": null,
   "metadata": {},
   "outputs": [],
   "source": [
    "data_idwt, coeff_arr_t, metrics = do_DWT(data_exp54, 0.10)\n",
    "\n",
    "print('MSE: {:.3e}'.format(metrics[0]))\n",
    "print('SSIM: {:.2f}'.format(metrics[1]*100))\n",
    "print('PSNR: {:.2f}'.format(metrics[2]))"
   ]
  },
  {
   "cell_type": "code",
   "execution_count": null,
   "metadata": {},
   "outputs": [],
   "source": [
    "def make_DWT_plots():\n",
    "    fig, ax1 = plt.subplots(1, 1, figsize=(8,8))\n",
    "    date_format = mdates.DateFormatter('%H:%M:%S')\n",
    "    im1 = ax1.imshow(coeff_arr_t, aspect='auto', cmap='seismic', vmin=-50, vmax=50)\n",
    "    ax1.set_xlabel('$Z_t$');        ax1.set_ylabel('$Z_d$')\n",
    "    ax1.set_xticks([]);             ax1.set_yticks([])\n",
    "    plt.show();\n",
    "    \n",
    "    fig, ax1  = plt.subplots(1, 1, figsize=(12,6))\n",
    "    date_format = mdates.DateFormatter('%H:%M:%S')\n",
    "    im1 = ax1.imshow(data_idwt, aspect='auto', cmap='seismic', vmin=-50, vmax=50, extent=[trange_54[0], trange_54[-1], xrange_54[-1], xrange_54[0]])\n",
    "    ax1.xaxis_date(); ax1.xaxis.set_major_formatter(date_format)\n",
    "    ax1.set_xlabel('Time [s] on 06/20/2019'); ax1.set_ylabel('Distance [m]') \n",
    "    ax1.set_title('DWT-Reconstructed Experiment 54')\n",
    "    fig.autofmt_xdate()\n",
    "    plt.show();"
   ]
  },
  {
   "cell_type": "code",
   "execution_count": null,
   "metadata": {},
   "outputs": [],
   "source": [
    "make_DWT_plots()"
   ]
  },
  {
   "cell_type": "markdown",
   "metadata": {},
   "source": [
    "***"
   ]
  },
  {
   "cell_type": "markdown",
   "metadata": {},
   "source": [
    "# END"
   ]
  }
 ],
 "metadata": {
  "kernelspec": {
   "display_name": "Python 3.9.7 ('base')",
   "language": "python",
   "name": "python3"
  },
  "language_info": {
   "codemirror_mode": {
    "name": "ipython",
    "version": 3
   },
   "file_extension": ".py",
   "mimetype": "text/x-python",
   "name": "python",
   "nbconvert_exporter": "python",
   "pygments_lexer": "ipython3",
   "version": "3.9.7"
  },
  "orig_nbformat": 4,
  "vscode": {
   "interpreter": {
    "hash": "6f5583cf1d9466b5c27e75c89cc6b383bed5736d6b16c51c8074d8690011a952"
   }
  }
 },
 "nbformat": 4,
 "nbformat_minor": 2
}
